{
 "cells": [
  {
   "cell_type": "code",
   "execution_count": null,
   "id": "45a64f4e",
   "metadata": {},
   "outputs": [
    {
     "name": "stdout",
     "output_type": "stream",
     "text": [
      "************ ÖĞRENCİ KAYIT FORMUNA HOŞ GELDİNİZ ******************\n",
      "1- Ogrenci Girisi\n",
      "2- Notları Gör\n",
      "3- Notları Kaydet\n",
      "4- Çıkış Yap\n",
      "\n",
      "1\n",
      "ÖĞRENCİNİN ADI: Ferna\n",
      "ÖĞRENCİNİN SOY ADI: TAN\n"
     ]
    }
   ],
   "source": [
    "def not_Hesapla(satir):\n",
    "    \n",
    "    satir=satir[:-1]\n",
    "    liste=satir.split(\":\")\n",
    "    ogrenci_İsmi=liste[0]\n",
    "    notlar=liste[1].split(\",\")\n",
    "    \n",
    "    n1=int(notlar[0])\n",
    "    n2=int(notlar[1])\n",
    "    n3=int(notlar[2])\n",
    "    \n",
    "    ortalama=(n1+n2+n3)/3\n",
    "    \n",
    "    if ortalama>=90 and ortalama<=100:\n",
    "        harf = \"AA GEÇTİ\"\n",
    "    elif ortalama>=85 and ortalama<=89:\n",
    "        harf = \"BA GEÇTİ\"\n",
    "    elif ortalama>=80 and ortalama<=84:\n",
    "        harf = \"BB GEÇTİ\"\n",
    "    elif ortalama>=75 and ortalama<=79:\n",
    "        harf = \"CB GEÇTİ\"\n",
    "    elif ortalama>=70 and ortalama<=74:\n",
    "        harf = \"CC GEÇTİ\"\n",
    "    elif ortalama>=65 and ortalama<=69:\n",
    "        harf = \"DC KOŞULLU GEÇTİ\"\n",
    "    elif ortalama>=60 and ortalama<=64:\n",
    "        harf = \"DD KOŞULLU GEÇTİ\"\n",
    "    elif ortalama>=50 and ortalama<=59:\n",
    "        harf = \"FD KALDI\"\n",
    "    else:\n",
    "        harf = \"FF KALDI\"\n",
    "    \n",
    "    return ogrenci_İsmi+\": \"+ harf +\"\\n\"\n",
    "    \n",
    "    \n",
    "\n",
    "def ortalamalari_oku():\n",
    "    with open(\"ogrenci_notları.txt\",\"r\",encoding=\"utf-8\") as file:\n",
    "        for satir in file:\n",
    "            print(not_Hesapla(satir))\n",
    "\n",
    "def not_Girisi():\n",
    "    isim=input(\"ÖĞRENCİNİN ADI: \")\n",
    "    soyad=input(\"ÖĞRENCİNİN SOY ADI: \")\n",
    "    not1=input(\"ÖĞRENCİNİN 1.SINAVI: \")\n",
    "    not2=input(\"ÖĞRENCİNİN 2.SINAVI: \")\n",
    "    not3=input(\"ÖĞRENCİNİN 3.SINAVI: \")\n",
    "    \n",
    "    with open(\"ogrenci_notları.txt\",\"a\",encoding=\"utf-8\") as file:\n",
    "        file.write(isim+\" \"+soyad+\":\"+not1+\",\"+not2+\",\"+not3+\"\\n\")\n",
    "    \n",
    "def not_Kaydet():\n",
    "    with open(\"ogrenci_notları.txt\",\"r\",encoding=\"utf-8\") as file:\n",
    "        liste=[]\n",
    "        for i in file:\n",
    "            liste.append(not_Hesapla(i))\n",
    "            \n",
    "    with open (\"harf_notları.txt\",\"w\",encoding=\"utf-8\") as file2:\n",
    "        for i in liste:\n",
    "            file2.write(i)\n",
    "            \n",
    "    \n",
    "    \n",
    "print(\"************ ÖĞRENCİ KAYIT FORMUNA HOŞ GELDİNİZ ******************\")\n",
    "while True:\n",
    "    secim=input(\"1- Ogrenci Girisi\\n2- Notları Gör\\n3- Notları Kaydet\\n4- Çıkış Yap\\n\\n\")\n",
    "    \n",
    "    if int(secim)==1:\n",
    "        not_Girisi()\n",
    "\n",
    "    elif int(secim)==2:\n",
    "        ortalamalari_oku()\n",
    "        \n",
    "\n",
    "    elif int(secim)==3:\n",
    "        not_Kaydet()\n",
    "        print(\"NOTLAR KAYDEDİLDİ\")\n",
    "        \n",
    "\n",
    "    else:\n",
    "        print(\"SİSTEM SONLANDI.\")\n",
    "        break"
   ]
  },
  {
   "cell_type": "code",
   "execution_count": null,
   "id": "d924281d",
   "metadata": {},
   "outputs": [],
   "source": []
  },
  {
   "cell_type": "code",
   "execution_count": null,
   "id": "956f7255",
   "metadata": {},
   "outputs": [],
   "source": []
  }
 ],
 "metadata": {
  "kernelspec": {
   "display_name": "Python 3.10.2 64-bit",
   "language": "python",
   "name": "python3"
  },
  "language_info": {
   "codemirror_mode": {
    "name": "ipython",
    "version": 3
   },
   "file_extension": ".py",
   "mimetype": "text/x-python",
   "name": "python",
   "nbconvert_exporter": "python",
   "pygments_lexer": "ipython3",
   "version": "3.10.2"
  },
  "vscode": {
   "interpreter": {
    "hash": "107d7b120a5b68773a87d4067e673630b35702e55ebab3138143d08b1c4d7cbc"
   }
  }
 },
 "nbformat": 4,
 "nbformat_minor": 5
}
